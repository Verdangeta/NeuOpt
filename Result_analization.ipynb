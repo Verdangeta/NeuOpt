{
 "cells": [
  {
   "cell_type": "code",
   "execution_count": 1,
   "id": "9b8b7696-de19-4571-b4cc-bd8dc621aea5",
   "metadata": {},
   "outputs": [
    {
     "data": {
      "application/vnd.jupyter.widget-view+json": {
       "model_id": "3914371d74204b57a00ebe4d8ac8f7b8",
       "version_major": 2,
       "version_minor": 0
      },
      "text/plain": [
       "interactive(children=(SelectMultiple(description='Метрики', index=(0,), layout=Layout(width='50%'), options=('…"
      ]
     },
     "metadata": {},
     "output_type": "display_data"
    },
    {
     "data": {
      "text/plain": [
       "<function __main__.plot_selected_metrics(selected)>"
      ]
     },
     "execution_count": 1,
     "metadata": {},
     "output_type": "execute_result"
    }
   ],
   "source": [
    "from tensorboard.backend.event_processing.event_accumulator import EventAccumulator\n",
    "import pandas as pd\n",
    "import matplotlib.pyplot as plt\n",
    "import ipywidgets as widgets\n",
    "from IPython.display import display\n",
    "\n",
    "# Загружаем логи\n",
    "event_acc = EventAccumulator('logs/tsp_50/example_training_wo_rtdl_TSP50_20250630T221523/')\n",
    "event_acc.Reload()\n",
    "\n",
    "# Собираем все скаляры в DataFrame\n",
    "scalar_tags = event_acc.Tags()['scalars']\n",
    "scalar_dfs = []\n",
    "\n",
    "for tag in scalar_tags:\n",
    "    data = event_acc.Scalars(tag)\n",
    "    df = pd.DataFrame([(s.step, s.value) for s in data], columns=[\"step\", tag])\n",
    "    scalar_dfs.append(df.set_index(\"step\"))\n",
    "\n",
    "full_df = pd.concat(scalar_dfs, axis=1).reset_index()\n",
    "\n",
    "# Создаем виджет для выбора колонок\n",
    "cols = full_df.columns.tolist()\n",
    "cols.remove(\"step\")  # step всегда по оси X\n",
    "\n",
    "select_columns = widgets.SelectMultiple(\n",
    "    options=cols,\n",
    "    value=[cols[0]] if cols else [],\n",
    "    description='Метрики',\n",
    "    rows=10,\n",
    "    layout=widgets.Layout(width='50%')\n",
    ")\n",
    "\n",
    "def plot_selected_metrics(selected):\n",
    "    plt.figure(figsize=(12, 6))\n",
    "    for col in selected:\n",
    "        plt.plot(full_df[\"step\"], full_df[col], label=col)\n",
    "    plt.xlabel(\"Step\")\n",
    "    plt.ylabel(\"Value\")\n",
    "    plt.title(\"Выбранные метрики TensorBoard\")\n",
    "    plt.grid(True)\n",
    "    plt.legend()\n",
    "    plt.tight_layout()\n",
    "    plt.show()\n",
    "\n",
    "# Подключаем интерактивный виджет\n",
    "widgets.interact(plot_selected_metrics, selected=select_columns)\n"
   ]
  },
  {
   "cell_type": "code",
   "execution_count": 34,
   "id": "26907cda-3354-4f9c-9612-364afd7b0507",
   "metadata": {},
   "outputs": [],
   "source": [
    "from tensorboard.backend.event_processing.event_accumulator import EventAccumulator\n",
    "import pandas as pd\n",
    "import matplotlib.pyplot as plt\n",
    "import ipywidgets as widgets\n",
    "from IPython.display import display\n",
    "\n",
    "def load_scalars(log_path):\n",
    "    acc = EventAccumulator(log_path)\n",
    "    acc.Reload()\n",
    "    scalars = {}\n",
    "    for tag in acc.Tags()['scalars']:\n",
    "        entries = acc.Scalars(tag)\n",
    "        df = pd.DataFrame([(e.step, e.value) for e in entries], columns=['step', tag])\n",
    "        scalars[tag] = df.set_index('step')\n",
    "    return scalars\n",
    "\n",
    "def build_comparison_interface(\n",
    "    log_path1,\n",
    "    log_path2,\n",
    "    plot_title=\"Сравнение экспериментов\",\n",
    "    label1=\"Эксперимент 1\",\n",
    "    label2=\"Эксперимент 2\"\n",
    "):\n",
    "    # Загружаем скаляры\n",
    "    data1 = load_scalars(log_path1)\n",
    "    data2 = load_scalars(log_path2)\n",
    "\n",
    "    # Находим общие теги\n",
    "    common_tags = sorted(set(data1.keys()).intersection(data2.keys()))\n",
    "    if not common_tags:\n",
    "        print(\"Нет общих скалярных метрик между логами.\")\n",
    "        return\n",
    "    print(set(data1.keys())== common_tags)\n",
    "\n",
    "    # Виджет выбора метрики\n",
    "    metric_selector = widgets.Dropdown(\n",
    "        options=common_tags,\n",
    "        description=\"Метрика:\"\n",
    "    )\n",
    "\n",
    "    # Функция построения графика\n",
    "    def plot_comparison(tag):\n",
    "        df1 = data1[tag].copy()\n",
    "        df2 = data2[tag].copy()\n",
    "        \n",
    "        # Ограничиваем до общего числа шагов\n",
    "        max_common_step = min(df1.index.max(), df2.index.max())\n",
    "        df1 = df1[df1.index <= max_common_step]\n",
    "        df2 = df2[df2.index <= max_common_step]\n",
    "        \n",
    "        plt.figure(figsize=(10, 5))\n",
    "        plt.plot(df1.index, df1[tag], label=label1)\n",
    "        plt.plot(df2.index, df2[tag], label=label2)\n",
    "        plt.title(f\"{plot_title}\\nМетрика: {tag}\")\n",
    "        plt.xlabel(\"Step\")\n",
    "        plt.ylabel(\"Value\")\n",
    "        plt.legend()\n",
    "        plt.grid(True)\n",
    "        plt.tight_layout()\n",
    "        plt.show()\n",
    "\n",
    "    display(metric_selector)\n",
    "    widgets.interact(plot_comparison, tag=metric_selector)\n"
   ]
  },
  {
   "cell_type": "code",
   "execution_count": 36,
   "id": "959e6293-9d3a-4e00-acad-15918371fd97",
   "metadata": {},
   "outputs": [
    {
     "name": "stdout",
     "output_type": "stream",
     "text": [
      "False\n"
     ]
    },
    {
     "data": {
      "application/vnd.jupyter.widget-view+json": {
       "model_id": "2c4640de13734a5e9e41ee069f132a1e",
       "version_major": 2,
       "version_minor": 0
      },
      "text/plain": [
       "Dropdown(description='Метрика:', options=('grad/actor', 'grad/critic', 'grad_clipped/actor', 'grad_clipped/cri…"
      ]
     },
     "metadata": {},
     "output_type": "display_data"
    },
    {
     "data": {
      "application/vnd.jupyter.widget-view+json": {
       "model_id": "07e1957e630644bfaa58fd0949132831",
       "version_major": 2,
       "version_minor": 0
      },
      "text/plain": [
       "interactive(children=(Dropdown(description='Метрика:', options=('grad/actor', 'grad/critic', 'grad_clipped/act…"
      ]
     },
     "metadata": {},
     "output_type": "display_data"
    }
   ],
   "source": [
    "build_comparison_interface('logs/tsp_20/example_training_with_rtdl_TSP20_20250628T204020/', 'logs/tsp_20/example_training_wo_rtdl_TSP20_20250623T224717/',\n",
    "                           label1 = \"with_rtdl\", label2 = \"wo_rtdl\", plot_title = \"TSP 20\")\n"
   ]
  },
  {
   "cell_type": "code",
   "execution_count": null,
   "id": "3f721626-d8f8-4e63-b1fb-89ad2b1a0be0",
   "metadata": {},
   "outputs": [],
   "source": []
  }
 ],
 "metadata": {
  "kernelspec": {
   "display_name": "Python 3 (ipykernel)",
   "language": "python",
   "name": "python3"
  },
  "language_info": {
   "codemirror_mode": {
    "name": "ipython",
    "version": 3
   },
   "file_extension": ".py",
   "mimetype": "text/x-python",
   "name": "python",
   "nbconvert_exporter": "python",
   "pygments_lexer": "ipython3",
   "version": "3.10.11"
  }
 },
 "nbformat": 4,
 "nbformat_minor": 5
}
